{
 "cells": [
  {
   "cell_type": "markdown",
   "metadata": {},
   "source": [
    "# API 資料串接 - 以 Dcard API 實作範例\n",
    "\n",
    "* 了解 Dcard API 使用方式與回傳內容\n",
    "* 撰寫程式存取 API 且解析 JSON 格式資料\n"
   ]
  },
  {
   "cell_type": "markdown",
   "metadata": {},
   "source": [
    "## 作業目標\n",
    "\n",
    "* 請利用 API: https://www.dcard.tw/_api/forums/pet/posts?popular=true 回答下列問題：\n",
    "\n",
    "1. 這個 API 一次會回傳幾筆資料？每一筆資料包含哪些欄位？\n",
    "2. 取出每一筆資料的「標題」、「貼文時間」、「留言人數」、「按讚人數」\n",
    "3. 計算熱門/非熱門文章的「平均留言人數」與「平均按讚人數」"
   ]
  },
  {
   "cell_type": "code",
   "execution_count": 62,
   "metadata": {},
   "outputs": [
    {
     "name": "stdout",
     "output_type": "stream",
     "text": [
      "30\n",
      "dict_keys(['id', 'title', 'excerpt', 'anonymousSchool', 'anonymousDepartment', 'pinned', 'forumId', 'replyId', 'createdAt', 'updatedAt', 'commentCount', 'likeCount', 'withNickname', 'tags', 'topics', 'meta', 'forumName', 'forumAlias', 'nsfw', 'gender', 'school', 'replyTitle', 'mediaMeta', 'reactions', 'hidden', 'customStyle', 'isSuspiciousAccount', 'layout', 'withImages', 'withVideos', 'media', 'reportReasonText', 'postAvatar'])\n",
      "\n"
     ]
    }
   ],
   "source": [
    "# 1. 這個 API 一次會回傳幾筆資料？每一筆資料包含哪些欄位？\n",
    "import requests\n",
    "import json\n",
    "pop = requests.get('https://www.dcard.tw/_api/forums/pet/posts?popular=true')\n",
    "response = pop.text\n",
    "data = json.loads(response)\n",
    "\n",
    "print(len(data))\n",
    "print(data[0].keys())\n",
    "print(data[0]['postAvatar'])"
   ]
  },
  {
   "cell_type": "code",
   "execution_count": 63,
   "metadata": {},
   "outputs": [
    {
     "name": "stdout",
     "output_type": "stream",
     "text": [
      "標題: 幸運貓齒🐈🦷\n",
      "貼文時間: 2020-08-16T00:50:34.894Z\n",
      "留言人數: 54\n",
      "按讚人數: 487\n",
      "\n",
      "標題: 沒有標題，只有貓\n",
      "貼文時間: 2020-08-15T22:53:42.748Z\n",
      "留言人數: 7\n",
      "按讚人數: 159\n",
      "\n",
      "標題: 貓媽媽生的貓卻不認貓！\n",
      "貼文時間: 2020-08-16T09:59:56.448Z\n",
      "留言人數: 13\n",
      "按讚人數: 119\n",
      "\n",
      "標題: 狗狗被攻擊\n",
      "貼文時間: 2020-08-16T10:50:10.111Z\n",
      "留言人數: 7\n",
      "按讚人數: 50\n",
      "\n",
      "標題: 收編一隻野貓，這樣的步驟對嗎\n",
      "貼文時間: 2020-08-16T02:35:30.645Z\n",
      "留言人數: 6\n",
      "按讚人數: 26\n",
      "\n",
      "標題: 18歲禮物\n",
      "貼文時間: 2020-08-16T13:54:33.189Z\n",
      "留言人數: 2\n",
      "按讚人數: 21\n",
      "\n",
      "標題: 喂！不要偷吃我的魚魚⋯\n",
      "貼文時間: 2020-08-17T03:05:29.447Z\n",
      "留言人數: 5\n",
      "按讚人數: 20\n",
      "\n",
      "標題: 我養了一缸垃圾魚(2)\n",
      "貼文時間: 2020-08-16T10:18:42.709Z\n",
      "留言人數: 1\n",
      "按讚人數: 18\n",
      "\n",
      "標題: 狗狗壞掉了 改怎麼處理？\n",
      "貼文時間: 2020-08-17T04:38:06.631Z\n",
      "留言人數: 0\n",
      "按讚人數: 17\n",
      "\n",
      "標題: （文長）晚安了！最勇敢的孩子（有一點點靈異）\n",
      "貼文時間: 2020-08-16T21:44:02.605Z\n",
      "留言人數: 1\n",
      "按讚人數: 14\n",
      "\n",
      "標題: （代po）新竹 黑白奶貓收養\n",
      "貼文時間: 2020-08-16T03:39:42.966Z\n",
      "留言人數: 0\n",
      "按讚人數: 13\n",
      "\n",
      "標題: 狗狗走失協尋！！\n",
      "貼文時間: 2020-08-15T22:27:20.613Z\n",
      "留言人數: 0\n",
      "按讚人數: 11\n",
      "\n",
      "標題: Uber外送肉球！！\n",
      "貼文時間: 2020-08-16T09:30:21.086Z\n",
      "留言人數: 1\n",
      "按讚人數: 9\n",
      "\n",
      "標題: 單純想曬女鵝~~\n",
      "貼文時間: 2020-08-16T09:48:13.672Z\n",
      "留言人數: 9\n",
      "按讚人數: 7\n",
      "\n",
      "標題: 沒啥~就是想炫耀一下自家的寶貝\n",
      "貼文時間: 2020-08-17T01:52:12.816Z\n",
      "留言人數: 0\n",
      "按讚人數: 6\n",
      "\n",
      "標題: 露卡Luka🐶在🍁國的美景（圖多慎入）\n",
      "貼文時間: 2020-08-16T05:48:52.929Z\n",
      "留言人數: 2\n",
      "按讚人數: 6\n",
      "\n",
      "標題: 我發現我家的貓會⋯⋯\n",
      "貼文時間: 2020-08-17T01:23:16.707Z\n",
      "留言人數: 2\n",
      "按讚人數: 4\n",
      "\n",
      "標題: 抽屜開一波\n",
      "貼文時間: 2020-08-16T05:38:10.737Z\n",
      "留言人數: 0\n",
      "按讚人數: 4\n",
      "\n",
      "標題: 請各位用路人小心駕駛\n",
      "貼文時間: 2020-08-16T18:01:59.792Z\n",
      "留言人數: 0\n",
      "按讚人數: 3\n",
      "\n",
      "標題: 貓咪送養\n",
      "貼文時間: 2020-08-17T06:34:16.998Z\n",
      "留言人數: 2\n",
      "按讚人數: 2\n",
      "\n",
      "標題: 當你的女朋友肚子餓卻不想自己出去買\n",
      "貼文時間: 2020-08-17T04:42:41.689Z\n",
      "留言人數: 0\n",
      "按讚人數: 2\n",
      "\n",
      "標題: 請問家中有毛孩的大家怎麼驅螞蟻🙏🏻\n",
      "貼文時間: 2020-08-17T02:16:27.372Z\n",
      "留言人數: 4\n",
      "按讚人數: 2\n",
      "\n",
      "標題: 狗狗疝氣（墜腸），高雄或台南動物醫院\n",
      "貼文時間: 2020-08-16T14:27:52.424Z\n",
      "留言人數: 2\n",
      "按讚人數: 2\n",
      "\n",
      "標題: #新手養魚 鬥魚這樣狀態是健康的嗎？\n",
      "貼文時間: 2020-08-16T12:25:18.015Z\n",
      "留言人數: 3\n",
      "按讚人數: 2\n",
      "\n",
      "標題: 問：狗狗掉毛\n",
      "貼文時間: 2020-08-16T05:31:39.563Z\n",
      "留言人數: 1\n",
      "按讚人數: 2\n",
      "\n",
      "標題: 一模一樣的睡姿😂\n",
      "貼文時間: 2020-08-15T20:58:18.686Z\n",
      "留言人數: 0\n",
      "按讚人數: 2\n",
      "\n",
      "標題: 小丑蛙飼養\n",
      "貼文時間: 2020-08-17T08:18:18.355Z\n",
      "留言人數: 1\n",
      "按讚人數: 1\n",
      "\n",
      "標題: 抖音網紅 王泡芙\n",
      "貼文時間: 2020-08-17T07:25:13.079Z\n",
      "留言人數: 1\n",
      "按讚人數: 1\n",
      "\n",
      "標題: 白吐司持續膨脹中⋯\n",
      "貼文時間: 2020-08-17T06:17:59.967Z\n",
      "留言人數: 0\n",
      "按讚人數: 1\n",
      "\n",
      "標題: 在路上撿到一隻母雞\n",
      "貼文時間: 2020-08-17T04:40:01.434Z\n",
      "留言人數: 2\n",
      "按讚人數: 1\n",
      "\n"
     ]
    }
   ],
   "source": [
    "# 2. 取出每一筆資料的「標題」、「貼文時間」、「留言人數」、「按讚人數」\n",
    "\n",
    "for d in data:\n",
    "    print('標題: '+d['title'])\n",
    "    print('貼文時間: '+d['createdAt'])\n",
    "    print('留言人數:',d['commentCount'])\n",
    "    print('按讚人數:',d['likeCount'])\n",
    "    print('')"
   ]
  },
  {
   "cell_type": "code",
   "execution_count": 64,
   "metadata": {},
   "outputs": [
    {
     "name": "stdout",
     "output_type": "stream",
     "text": [
      "熱門文章\n",
      "平均留言人數: 4.2\n",
      "平均按讚人數: 33.733333333333334\n"
     ]
    }
   ],
   "source": [
    "# 3. 計算熱門/非熱門文章的「平均留言人數」與「平均按讚人數」\n",
    "\n",
    "comment_sum = 0\n",
    "like_sum = 0\n",
    "for d in data:\n",
    "    comment_sum += d['commentCount']\n",
    "    like_sum += d['likeCount']\n",
    "    \n",
    "print('熱門文章')\n",
    "print('平均留言人數:', comment_sum/len(data))\n",
    "print('平均按讚人數:', like_sum/len(data))\n"
   ]
  },
  {
   "cell_type": "code",
   "execution_count": 68,
   "metadata": {},
   "outputs": [
    {
     "name": "stdout",
     "output_type": "stream",
     "text": [
      "非熱門文章\n",
      "平均留言人數: 1.4666666666666666\n",
      "平均按讚人數: 5.933333333333334\n"
     ]
    }
   ],
   "source": [
    "nonpop = requests.get('https://www.dcard.tw/_api/forums/pet/posts?popular=false')\n",
    "response = nonpop.text\n",
    "data = json.loads(response)\n",
    "\n",
    "comment_sum = 0\n",
    "like_sum = 0\n",
    "for d in data:\n",
    "    comment_sum += d['commentCount']\n",
    "    like_sum += d['likeCount']\n",
    "    \n",
    "print('非熱門文章')\n",
    "print('平均留言人數:', comment_sum/len(data))\n",
    "print('平均按讚人數:', like_sum/len(data))"
   ]
  },
  {
   "cell_type": "code",
   "execution_count": null,
   "metadata": {},
   "outputs": [],
   "source": []
  }
 ],
 "metadata": {
  "kernelspec": {
   "display_name": "Python 3",
   "language": "python",
   "name": "python3"
  },
  "language_info": {
   "codemirror_mode": {
    "name": "ipython",
    "version": 3
   },
   "file_extension": ".py",
   "mimetype": "text/x-python",
   "name": "python",
   "nbconvert_exporter": "python",
   "pygments_lexer": "ipython3",
   "version": "3.7.1"
  }
 },
 "nbformat": 4,
 "nbformat_minor": 2
}
