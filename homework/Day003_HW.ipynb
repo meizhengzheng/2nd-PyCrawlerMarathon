{
 "cells": [
  {
   "cell_type": "markdown",
   "metadata": {},
   "source": [
    "# Python 下載XML檔案與解析\n",
    "\n",
    "\n",
    "* 了解 xml 檔案格式與內容\n",
    "* 能夠利用套件存取 xml 格式的檔案\n"
   ]
  },
  {
   "cell_type": "markdown",
   "metadata": {},
   "source": [
    "## 作業目標\n",
    "\n",
    "* 比較一下範例檔案中的「File I/O」與「xmltodict」讀出來的內容有什麼差異\n",
    "\n",
    "* 根據範例檔案的結果：\n",
    "    1. 請問高雄市有多少地區有溫度資料？\n",
    "    2. 請取出每一個地區所記錄的第一個時間點跟溫度\n",
    "    3. 請取出第一個地區所記錄的每一個時間點跟溫度"
   ]
  },
  {
   "cell_type": "markdown",
   "metadata": {},
   "source": [
    "### 比較一下範例檔案中的「File I/O」與「xmltodict」讀出來的內容有什麼差異\n"
   ]
  },
  {
   "cell_type": "code",
   "execution_count": 109,
   "metadata": {
    "scrolled": false
   },
   "outputs": [
    {
     "name": "stdout",
     "output_type": "stream",
     "text": [
      "Requirement already satisfied: xmltodict in c:\\users\\meizheng\\anaconda3\\lib\\site-packages (0.12.0)\n"
     ]
    }
   ],
   "source": [
    "!pip install xmltodict\n",
    "import xmltodict\n",
    "\n",
    "# 存取檔案\n",
    "\n",
    "fh = open(\"./data/Day003/64_72hr_CH.xml\", \"r\",encoding='utf-8') #開啟高雄市的資料\n",
    "xml = fh.read()\n",
    "fh.close()\n",
    "\n",
    "#print(xml)"
   ]
  },
  {
   "cell_type": "markdown",
   "metadata": {},
   "source": [
    "### 根據範例檔案的結果：\n",
    "\n",
    "1. 請問高雄市有多少地區有溫度資料？\n",
    "2. 請取出每一個地區所記錄的第一個時間點跟溫度\n",
    "3. 請取出第一個地區所記錄的每一個時間點跟溫度"
   ]
  },
  {
   "cell_type": "code",
   "execution_count": 104,
   "metadata": {},
   "outputs": [
    {
     "name": "stdout",
     "output_type": "stream",
     "text": [
      "38\n"
     ]
    }
   ],
   "source": [
    "# 1. 請問高雄市有多少地區有溫度資料？\n",
    "\n",
    "d = dict(xmltodict.parse(xml)) \n",
    "datasetDescription = d['cwbopendata']['dataset']['locations']['location']\n",
    "\n",
    "print(len(datasetDescription)) "
   ]
  },
  {
   "cell_type": "code",
   "execution_count": 105,
   "metadata": {},
   "outputs": [
    {
     "name": "stdout",
     "output_type": "stream",
     "text": [
      "鹽埕區 OrderedDict([('dataTime', '2019-06-28T12:00:00+08:00'), ('elementValue', OrderedDict([('value', '33'), ('measures', '攝氏度')]))])\n",
      "鼓山區 OrderedDict([('dataTime', '2019-06-28T12:00:00+08:00'), ('elementValue', OrderedDict([('value', '33'), ('measures', '攝氏度')]))])\n",
      "左營區 OrderedDict([('dataTime', '2019-06-28T12:00:00+08:00'), ('elementValue', OrderedDict([('value', '33'), ('measures', '攝氏度')]))])\n",
      "楠梓區 OrderedDict([('dataTime', '2019-06-28T12:00:00+08:00'), ('elementValue', OrderedDict([('value', '34'), ('measures', '攝氏度')]))])\n",
      "三民區 OrderedDict([('dataTime', '2019-06-28T12:00:00+08:00'), ('elementValue', OrderedDict([('value', '32'), ('measures', '攝氏度')]))])\n",
      "新興區 OrderedDict([('dataTime', '2019-06-28T12:00:00+08:00'), ('elementValue', OrderedDict([('value', '33'), ('measures', '攝氏度')]))])\n",
      "前金區 OrderedDict([('dataTime', '2019-06-28T12:00:00+08:00'), ('elementValue', OrderedDict([('value', '33'), ('measures', '攝氏度')]))])\n",
      "苓雅區 OrderedDict([('dataTime', '2019-06-28T12:00:00+08:00'), ('elementValue', OrderedDict([('value', '33'), ('measures', '攝氏度')]))])\n",
      "前鎮區 OrderedDict([('dataTime', '2019-06-28T12:00:00+08:00'), ('elementValue', OrderedDict([('value', '33'), ('measures', '攝氏度')]))])\n",
      "旗津區 OrderedDict([('dataTime', '2019-06-28T12:00:00+08:00'), ('elementValue', OrderedDict([('value', '32'), ('measures', '攝氏度')]))])\n",
      "小港區 OrderedDict([('dataTime', '2019-06-28T12:00:00+08:00'), ('elementValue', OrderedDict([('value', '33'), ('measures', '攝氏度')]))])\n",
      "鳳山區 OrderedDict([('dataTime', '2019-06-28T12:00:00+08:00'), ('elementValue', OrderedDict([('value', '34'), ('measures', '攝氏度')]))])\n",
      "林園區 OrderedDict([('dataTime', '2019-06-28T12:00:00+08:00'), ('elementValue', OrderedDict([('value', '33'), ('measures', '攝氏度')]))])\n",
      "大寮區 OrderedDict([('dataTime', '2019-06-28T12:00:00+08:00'), ('elementValue', OrderedDict([('value', '34'), ('measures', '攝氏度')]))])\n",
      "大樹區 OrderedDict([('dataTime', '2019-06-28T12:00:00+08:00'), ('elementValue', OrderedDict([('value', '34'), ('measures', '攝氏度')]))])\n",
      "大社區 OrderedDict([('dataTime', '2019-06-28T12:00:00+08:00'), ('elementValue', OrderedDict([('value', '34'), ('measures', '攝氏度')]))])\n",
      "仁武區 OrderedDict([('dataTime', '2019-06-28T12:00:00+08:00'), ('elementValue', OrderedDict([('value', '33'), ('measures', '攝氏度')]))])\n",
      "鳥松區 OrderedDict([('dataTime', '2019-06-28T12:00:00+08:00'), ('elementValue', OrderedDict([('value', '34'), ('measures', '攝氏度')]))])\n",
      "岡山區 OrderedDict([('dataTime', '2019-06-28T12:00:00+08:00'), ('elementValue', OrderedDict([('value', '34'), ('measures', '攝氏度')]))])\n",
      "橋頭區 OrderedDict([('dataTime', '2019-06-28T12:00:00+08:00'), ('elementValue', OrderedDict([('value', '35'), ('measures', '攝氏度')]))])\n",
      "燕巢區 OrderedDict([('dataTime', '2019-06-28T12:00:00+08:00'), ('elementValue', OrderedDict([('value', '34'), ('measures', '攝氏度')]))])\n",
      "田寮區 OrderedDict([('dataTime', '2019-06-28T12:00:00+08:00'), ('elementValue', OrderedDict([('value', '34'), ('measures', '攝氏度')]))])\n",
      "阿蓮區 OrderedDict([('dataTime', '2019-06-28T12:00:00+08:00'), ('elementValue', OrderedDict([('value', '34'), ('measures', '攝氏度')]))])\n",
      "路竹區 OrderedDict([('dataTime', '2019-06-28T12:00:00+08:00'), ('elementValue', OrderedDict([('value', '33'), ('measures', '攝氏度')]))])\n",
      "湖內區 OrderedDict([('dataTime', '2019-06-28T12:00:00+08:00'), ('elementValue', OrderedDict([('value', '33'), ('measures', '攝氏度')]))])\n",
      "茄萣區 OrderedDict([('dataTime', '2019-06-28T12:00:00+08:00'), ('elementValue', OrderedDict([('value', '33'), ('measures', '攝氏度')]))])\n",
      "永安區 OrderedDict([('dataTime', '2019-06-28T12:00:00+08:00'), ('elementValue', OrderedDict([('value', '32'), ('measures', '攝氏度')]))])\n",
      "彌陀區 OrderedDict([('dataTime', '2019-06-28T12:00:00+08:00'), ('elementValue', OrderedDict([('value', '32'), ('measures', '攝氏度')]))])\n",
      "梓官區 OrderedDict([('dataTime', '2019-06-28T12:00:00+08:00'), ('elementValue', OrderedDict([('value', '32'), ('measures', '攝氏度')]))])\n",
      "旗山區 OrderedDict([('dataTime', '2019-06-28T12:00:00+08:00'), ('elementValue', OrderedDict([('value', '34'), ('measures', '攝氏度')]))])\n",
      "美濃區 OrderedDict([('dataTime', '2019-06-28T12:00:00+08:00'), ('elementValue', OrderedDict([('value', '34'), ('measures', '攝氏度')]))])\n",
      "六龜區 OrderedDict([('dataTime', '2019-06-28T12:00:00+08:00'), ('elementValue', OrderedDict([('value', '34'), ('measures', '攝氏度')]))])\n",
      "甲仙區 OrderedDict([('dataTime', '2019-06-28T12:00:00+08:00'), ('elementValue', OrderedDict([('value', '33'), ('measures', '攝氏度')]))])\n",
      "杉林區 OrderedDict([('dataTime', '2019-06-28T12:00:00+08:00'), ('elementValue', OrderedDict([('value', '36'), ('measures', '攝氏度')]))])\n",
      "內門區 OrderedDict([('dataTime', '2019-06-28T12:00:00+08:00'), ('elementValue', OrderedDict([('value', '34'), ('measures', '攝氏度')]))])\n",
      "茂林區 OrderedDict([('dataTime', '2019-06-28T12:00:00+08:00'), ('elementValue', OrderedDict([('value', '34'), ('measures', '攝氏度')]))])\n",
      "桃源區 OrderedDict([('dataTime', '2019-06-28T12:00:00+08:00'), ('elementValue', OrderedDict([('value', '31'), ('measures', '攝氏度')]))])\n",
      "那瑪夏區 OrderedDict([('dataTime', '2019-06-28T12:00:00+08:00'), ('elementValue', OrderedDict([('value', '29'), ('measures', '攝氏度')]))])\n"
     ]
    }
   ],
   "source": [
    "# 2. 請取出每一個地區所記錄的第一個時間點跟溫度\n",
    "\n",
    "for i in range(38):\n",
    "    print((datasetDescription)[i]['locationName'],(datasetDescription)[i]['weatherElement'][0]['time'][0])"
   ]
  },
  {
   "cell_type": "code",
   "execution_count": 107,
   "metadata": {},
   "outputs": [
    {
     "name": "stdout",
     "output_type": "stream",
     "text": [
      "鹽埕區 [OrderedDict([('dataTime', '2019-06-28T12:00:00+08:00'), ('elementValue', OrderedDict([('value', '33'), ('measures', '攝氏度')]))]), OrderedDict([('dataTime', '2019-06-28T15:00:00+08:00'), ('elementValue', OrderedDict([('value', '33'), ('measures', '攝氏度')]))]), OrderedDict([('dataTime', '2019-06-28T18:00:00+08:00'), ('elementValue', OrderedDict([('value', '32'), ('measures', '攝氏度')]))]), OrderedDict([('dataTime', '2019-06-28T21:00:00+08:00'), ('elementValue', OrderedDict([('value', '30'), ('measures', '攝氏度')]))]), OrderedDict([('dataTime', '2019-06-29T00:00:00+08:00'), ('elementValue', OrderedDict([('value', '30'), ('measures', '攝氏度')]))]), OrderedDict([('dataTime', '2019-06-29T03:00:00+08:00'), ('elementValue', OrderedDict([('value', '29'), ('measures', '攝氏度')]))]), OrderedDict([('dataTime', '2019-06-29T06:00:00+08:00'), ('elementValue', OrderedDict([('value', '28'), ('measures', '攝氏度')]))]), OrderedDict([('dataTime', '2019-06-29T09:00:00+08:00'), ('elementValue', OrderedDict([('value', '31'), ('measures', '攝氏度')]))]), OrderedDict([('dataTime', '2019-06-29T12:00:00+08:00'), ('elementValue', OrderedDict([('value', '32'), ('measures', '攝氏度')]))]), OrderedDict([('dataTime', '2019-06-29T15:00:00+08:00'), ('elementValue', OrderedDict([('value', '32'), ('measures', '攝氏度')]))]), OrderedDict([('dataTime', '2019-06-29T18:00:00+08:00'), ('elementValue', OrderedDict([('value', '31'), ('measures', '攝氏度')]))]), OrderedDict([('dataTime', '2019-06-29T21:00:00+08:00'), ('elementValue', OrderedDict([('value', '30'), ('measures', '攝氏度')]))]), OrderedDict([('dataTime', '2019-06-30T00:00:00+08:00'), ('elementValue', OrderedDict([('value', '29'), ('measures', '攝氏度')]))]), OrderedDict([('dataTime', '2019-06-30T03:00:00+08:00'), ('elementValue', OrderedDict([('value', '28'), ('measures', '攝氏度')]))]), OrderedDict([('dataTime', '2019-06-30T06:00:00+08:00'), ('elementValue', OrderedDict([('value', '28'), ('measures', '攝氏度')]))]), OrderedDict([('dataTime', '2019-06-30T09:00:00+08:00'), ('elementValue', OrderedDict([('value', '31'), ('measures', '攝氏度')]))]), OrderedDict([('dataTime', '2019-06-30T12:00:00+08:00'), ('elementValue', OrderedDict([('value', '32'), ('measures', '攝氏度')]))]), OrderedDict([('dataTime', '2019-06-30T15:00:00+08:00'), ('elementValue', OrderedDict([('value', '32'), ('measures', '攝氏度')]))]), OrderedDict([('dataTime', '2019-06-30T18:00:00+08:00'), ('elementValue', OrderedDict([('value', '31'), ('measures', '攝氏度')]))]), OrderedDict([('dataTime', '2019-06-30T21:00:00+08:00'), ('elementValue', OrderedDict([('value', '30'), ('measures', '攝氏度')]))]), OrderedDict([('dataTime', '2019-07-01T00:00:00+08:00'), ('elementValue', OrderedDict([('value', '29'), ('measures', '攝氏度')]))]), OrderedDict([('dataTime', '2019-07-01T03:00:00+08:00'), ('elementValue', OrderedDict([('value', '29'), ('measures', '攝氏度')]))]), OrderedDict([('dataTime', '2019-07-01T06:00:00+08:00'), ('elementValue', OrderedDict([('value', '28'), ('measures', '攝氏度')]))]), OrderedDict([('dataTime', '2019-07-01T09:00:00+08:00'), ('elementValue', OrderedDict([('value', '31'), ('measures', '攝氏度')]))])]\n"
     ]
    }
   ],
   "source": [
    "# 3. 請取出第一個地區所記錄的每一個時間點跟溫度\n",
    "\n",
    "print((datasetDescription)[0]['locationName'],(datasetDescription)[1]['weatherElement'][0]['time'])"
   ]
  },
  {
   "cell_type": "code",
   "execution_count": null,
   "metadata": {},
   "outputs": [],
   "source": []
  }
 ],
 "metadata": {
  "kernelspec": {
   "display_name": "Python 3",
   "language": "python",
   "name": "python3"
  },
  "language_info": {
   "codemirror_mode": {
    "name": "ipython",
    "version": 3
   },
   "file_extension": ".py",
   "mimetype": "text/x-python",
   "name": "python",
   "nbconvert_exporter": "python",
   "pygments_lexer": "ipython3",
   "version": "3.7.1"
  }
 },
 "nbformat": 4,
 "nbformat_minor": 2
}
